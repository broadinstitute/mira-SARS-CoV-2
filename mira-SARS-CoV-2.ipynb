{
 "cells": [
  {
   "cell_type": "code",
   "execution_count": null,
   "metadata": {},
   "outputs": [],
   "source": [
    "import glob\n",
    "import os\n",
    "\n",
    "import numpy\n",
    "import pyknon.genmidi\n",
    "import pyknon.music\n",
    "import pytuning.tuning_tables\n",
    "import sklearn.preprocessing"
   ]
  },
  {
   "cell_type": "code",
   "execution_count": null,
   "metadata": {},
   "outputs": [],
   "source": [
    "REFERENCE_NOTE = 69 # 440 Hz, nice"
   ]
  },
  {
   "cell_type": "code",
   "execution_count": null,
   "metadata": {},
   "outputs": [],
   "source": [
    "scale = pytuning.create_edo_scale(22)\n",
    "\n",
    "table = pytuning.tuning_tables.create_csound_tuning(scale, REFERENCE_NOTE)\n",
    "\n",
    "with open(\"data/22-EDO.table\", \"w\") as fp:\n",
    "    fp.write(table)"
   ]
  },
  {
   "cell_type": "code",
   "execution_count": null,
   "metadata": {},
   "outputs": [],
   "source": [
    "AMINO_ACIDS = {\n",
    "    \"A\": ( 0,  89.094,  1.8),\n",
    "    \"C\": ( 1, 121.154,  2.5),\n",
    "    \"D\": ( 2, 133.104, -3.5),\n",
    "    \"E\": ( 3, 147.131, -3.5),\n",
    "    \"F\": ( 4, 165.192,  2.8),\n",
    "    \"G\": ( 5,  75.067, -0.4),\n",
    "    \"H\": ( 6, 155.156, -3.2),\n",
    "    \"I\": ( 7, 131.175,  4.5),\n",
    "    \"K\": ( 8, 146.189, -3.9),\n",
    "    \"L\": ( 9, 131.175,  3.8),\n",
    "    \"M\": (10, 149.208,  1.9),\n",
    "    \"N\": (11, 132.119, -3.5),\n",
    "    \"P\": (12, 115.132, -1.6),\n",
    "    \"Q\": (13, 146.146, -3.5),\n",
    "    \"R\": (14, 174.203, -4.5),\n",
    "    \"S\": (15, 105.093, -0.8),\n",
    "    \"T\": (16, 119.119, -0.7),\n",
    "    \"U\": (17, 168.064,  0.0),\n",
    "    \"V\": (18, 117.148,  4.2),\n",
    "    \"W\": (19, 204.228, -0.9),\n",
    "    \"Y\": (20, 181.191, -1.3)\n",
    "}"
   ]
  },
  {
   "cell_type": "code",
   "execution_count": null,
   "metadata": {},
   "outputs": [],
   "source": [
    "masses = numpy.array([x for _, x, _ in AMINO_ACIDS.values()])[:, numpy.newaxis]\n",
    "scales = numpy.array([x for _, _, x in AMINO_ACIDS.values()])[:, numpy.newaxis]\n",
    "\n",
    "masses = sklearn.preprocessing.normalize(masses, axis=0)\n",
    "scales = sklearn.preprocessing.normalize(scales, axis=0)\n",
    "\n",
    "scales = numpy.absolute(scales)\n",
    "scales = sklearn.preprocessing.minmax_scale(scales, feature_range=(50, 100), axis=0)\n",
    "scales = numpy.int16(scales)\n",
    "\n",
    "masses = masses.ravel()\n",
    "scales = scales.ravel()\n",
    "\n",
    "features = []\n",
    "\n",
    "for x, (y, z) in enumerate(zip(masses, scales)):\n",
    "    features += [(x, y, z)]"
   ]
  },
  {
   "cell_type": "code",
   "execution_count": null,
   "metadata": {},
   "outputs": [],
   "source": [
    "pathnames = glob.glob(\"data/fasta/*.fasta\")\n",
    "\n",
    "for pathname in pathnames:\n",
    "    name = os.path.splitext(os.path.split(pathname)[-1])[0].split(\"_\")[-1]\n",
    "\n",
    "    with open(pathname) as fp:\n",
    "        sequence = fp.read()\n",
    "\n",
    "    sequence = sequence.splitlines()[-1].strip()\n",
    "    \n",
    "    notes = []\n",
    "\n",
    "    records = [dict(zip(AMINO_ACIDS.keys(), features))[amino_acid] for amino_acid in sequence]\n",
    "\n",
    "    for index, dur, volume in records:\n",
    "        notes += [pyknon.music.Note(index, dur=dur, volume=volume)]\n",
    "\n",
    "    midi = pyknon.genmidi.Midi()\n",
    "\n",
    "    midi.seq_notes(pyknon.music.NoteSeq(notes))\n",
    "\n",
    "    midi.write(f\"data/midi/{name.lower()}.midi\")"
   ]
  },
  {
   "cell_type": "code",
   "execution_count": null,
   "metadata": {},
   "outputs": [],
   "source": []
  }
 ],
 "metadata": {
  "kernelspec": {
   "display_name": "Python 3",
   "language": "python",
   "name": "python3"
  },
  "language_info": {
   "codemirror_mode": {
    "name": "ipython",
    "version": 3
   },
   "file_extension": ".py",
   "mimetype": "text/x-python",
   "name": "python",
   "nbconvert_exporter": "python",
   "pygments_lexer": "ipython3",
   "version": "3.7.7"
  }
 },
 "nbformat": 4,
 "nbformat_minor": 2
}
