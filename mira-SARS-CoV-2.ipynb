{
 "cells": [
  {
   "cell_type": "code",
   "execution_count": null,
   "metadata": {},
   "outputs": [],
   "source": [
    "import collections\n",
    "import glob\n",
    "import os\n",
    "\n",
    "import music21.duration\n",
    "import music21.note\n",
    "import music21.volume\n",
    "import numpy\n",
    "import pytuning.tuning_tables\n",
    "import sklearn.preprocessing"
   ]
  },
  {
   "cell_type": "code",
   "execution_count": null,
   "metadata": {},
   "outputs": [],
   "source": [
    "AMINO_ACIDS = {\n",
    "    \"A\": (\"C\"  ,  89.094,  1.8),\n",
    "    \"C\": (\"C#\" , 121.154,  2.5),\n",
    "    \"D\": (\"D-\" , 133.104, -3.5),\n",
    "    \"E\": (\"D\"  , 147.131, -3.5),\n",
    "    \"F\": (\"D#\" , 165.192,  2.8),\n",
    "    \"G\": (\"E-\" ,  75.067, -0.4),\n",
    "    \"H\": (\"E\"  , 155.156, -3.2),\n",
    "    \"I\": (\"E#\" , 131.175,  4.5),\n",
    "    \"K\": (\"F-\" , 146.189, -3.9),\n",
    "    \"L\": (\"F\"  , 131.175,  3.8),\n",
    "    \"M\": (\"F#\" , 149.208,  1.9),\n",
    "    \"N\": (\"G-\" , 132.119, -3.5),\n",
    "    \"P\": (\"G\"  , 115.132, -1.6),\n",
    "    \"Q\": (\"G#\" , 146.146, -3.5),\n",
    "    \"R\": (\"A--\", 174.203, -4.5),\n",
    "    \"S\": (\"A-\" , 105.093, -0.8),\n",
    "    \"T\": (\"A\"  , 119.119, -0.7),\n",
    "    \"U\": (\"A#\" , 168.064,  0.0),\n",
    "    \"V\": (\"B-\" , 117.148,  4.2),\n",
    "    \"W\": (\"B\"  , 204.228, -0.9),\n",
    "    \"Y\": (\"B#\" , 181.191, -1.3)\n",
    "}\n",
    "\n",
    "AMINO_ACIDS = collections.OrderedDict(AMINO_ACIDS)\n",
    "\n",
    "DURATIONS = [\n",
    "    0.25,\n",
    "    0.5,\n",
    "    2.0,\n",
    "    1.0,\n",
    "    4.0\n",
    "]\n",
    "\n",
    "TIME_SIGNATURE = \"4/4\""
   ]
  },
  {
   "cell_type": "code",
   "execution_count": null,
   "metadata": {},
   "outputs": [],
   "source": []
  },
  {
   "cell_type": "code",
   "execution_count": null,
   "metadata": {},
   "outputs": [],
   "source": [
    "scale = pytuning.create_edo_scale(22)\n",
    "\n",
    "with open(\"data/22-EDO.scl\", \"w\") as fp:\n",
    "    fp.write(pytuning.tuning_tables.create_scala_tuning(scale, \"22-EDO\"))"
   ]
  },
  {
   "cell_type": "code",
   "execution_count": null,
   "metadata": {},
   "outputs": [],
   "source": []
  },
  {
   "cell_type": "code",
   "execution_count": null,
   "metadata": {},
   "outputs": [],
   "source": [
    "masses = numpy.array([x for _, x, _ in AMINO_ACIDS.values()])[:, numpy.newaxis]\n",
    "scales = numpy.array([x for _, _, x in AMINO_ACIDS.values()])[:, numpy.newaxis]\n",
    "\n",
    "masses = sklearn.preprocessing.normalize(masses, axis=0)\n",
    "scales = sklearn.preprocessing.normalize(scales, axis=0)\n",
    "\n",
    "masses = sklearn.preprocessing.minmax_scale(scales, feature_range=(0, 5), axis=0)\n",
    "masses = numpy.round(masses)\n",
    "masses = [DURATIONS[int(mass - 1)] for mass in masses]\n",
    "\n",
    "scales = numpy.absolute(scales)\n",
    "scales = sklearn.preprocessing.minmax_scale(scales, feature_range=(0.0, 1.0), axis=0)\n",
    "scales = scales.ravel()"
   ]
  },
  {
   "cell_type": "code",
   "execution_count": null,
   "metadata": {},
   "outputs": [],
   "source": [
    "pathnames = glob.glob(\"data/fasta/*.fasta\")\n",
    "\n",
    "for pathname in pathnames:\n",
    "    name = os.path.splitext(os.path.split(pathname)[-1])[0].split(\"_\")[-1]\n",
    "\n",
    "    with open(pathname) as fp:\n",
    "        sequence = fp.read()\n",
    "\n",
    "    sequence = sequence.splitlines()[-1].strip()\n",
    "    \n",
    "    stream = music21.stream.Stream()\n",
    "        \n",
    "    signature = music21.meter.TimeSignature(TIME_SIGNATURE)\n",
    "\n",
    "    stream.append(signature)\n",
    "    \n",
    "    for pair in sequence:    \n",
    "        note = music21.note.Note(AMINO_ACIDS[pair][0])\n",
    "\n",
    "        note.duration = music21.duration.Duration(numpy.random.choice(DURATIONS))\n",
    "                \n",
    "        stream.append(note)\n",
    "    \n",
    "    translation = music21.midi.translate.streamToMidiFile(stream)\n",
    "\n",
    "    translation.open(f\"data/midi/{name.lower()}.midi\", \"wb\")\n",
    "\n",
    "    translation.write()\n",
    "    \n",
    "    translation.close()"
   ]
  }
 ],
 "metadata": {
  "kernelspec": {
   "display_name": "Python 3",
   "language": "python",
   "name": "python3"
  },
  "language_info": {
   "codemirror_mode": {
    "name": "ipython",
    "version": 3
   },
   "file_extension": ".py",
   "mimetype": "text/x-python",
   "name": "python",
   "nbconvert_exporter": "python",
   "pygments_lexer": "ipython3",
   "version": "3.7.7"
  }
 },
 "nbformat": 4,
 "nbformat_minor": 2
}
